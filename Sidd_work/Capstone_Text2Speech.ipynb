{
  "nbformat": 4,
  "nbformat_minor": 0,
  "metadata": {
    "colab": {
      "provenance": []
    },
    "kernelspec": {
      "name": "python3",
      "display_name": "Python 3"
    },
    "language_info": {
      "name": "python"
    }
  },
  "cells": [
    {
      "cell_type": "code",
      "execution_count": null,
      "metadata": {
        "id": "SsyXNYZ-th2v"
      },
      "outputs": [],
      "source": [
        "!pip install gtts\n",
        "!pip install googletrans\n",
        "!pip install gtts deep-translator\n",
        "!pip install gTTS pydub\n",
        "from gtts import gTTS\n",
        "from pydub import AudioSegment\n",
        "import os\n",
        "import re\n"
      ]
    },
    {
      "cell_type": "code",
      "source": [
        "from gtts import gTTS\n",
        "from deep_translator import GoogleTranslator\n",
        "\n",
        "def TextToSpeechwTrans(i):\n",
        "    languages = ['en', 'hi', 'kn', 'ta', 'te']\n",
        "    text = input(\"Enter text in English: \")\n",
        "\n",
        "    # Translate the text to the target language\n",
        "    translated_text = GoogleTranslator(source='en', target=languages[i]).translate(text)\n",
        "\n",
        "    # Convert the translated text to speech\n",
        "    tts = gTTS(text=translated_text, lang=languages[i], lang_check=True)\n",
        "    tts.save(\"tts.mp3\")\n",
        "\n",
        "# Example usage\n",
        "TextToSpeechwTrans(1)  # Translates to Kannada and converts to speech\n"
      ],
      "metadata": {
        "id": "o3V-PEPitpzV"
      },
      "execution_count": null,
      "outputs": []
    },
    {
      "cell_type": "code",
      "source": [
        "def TextToSpeech(i):\n",
        "    languages = ['en','hi','kn','ta','te']\n",
        "    # enter = gTTS(text = \"This is a friction force.Friction is a resistive force that acts in the opposite direction of applied force.Remember,force is measured in newton\", lang = 'en', lang_check = True)\n",
        "    text = input()\n",
        "    tts = gTTS(text = text, lang = languages[i], lang_check = True)\n",
        "    tts.save(\"tts.mp3\")\n",
        " TextToSpeech(0)"
      ],
      "metadata": {
        "id": "eXdr-OPztr2E"
      },
      "execution_count": null,
      "outputs": []
    },
    {
      "cell_type": "code",
      "source": [
        "def TextToSpeechduration(i, text):\n",
        "    languages = ['en', 'hi', 'kn', 'ta', 'te']\n",
        "    tts = gTTS(text=text, lang=languages[i], lang_check=True)\n",
        "    tts.save(\"tts.mp3\")\n",
        "    audio = AudioSegment.from_file(\"tts.mp3\")\n",
        "    duration_seconds = len(audio) / 1000.0  # Convert milliseconds to seconds\n",
        "    os.remove(\"tts.mp3\")\n",
        "    return duration_seconds\n",
        "\n",
        "# Prompt the user to enter the text\n",
        "user_input = input(\"Enter your text:\\n\")\n",
        "\n",
        "# Split the text into lines using punctuation as delimiters\n",
        "lines = re.split(r'(?<=[.!?])\\s+|\\n+', user_input.strip())\n",
        "\n",
        "# Calculate the duration of each line using English as the language (index 0)\n",
        "durations = [TextToSpeechduration(0, line) for line in lines]\n",
        "\n",
        "# Specify which line you want to know the start time of (e.g., the third line)\n",
        "line_index = 3  # zero-based index for the third line\n",
        "\n",
        "# Calculate cumulative duration up to the specified line\n",
        "if line_index < len(lines):\n",
        "    start_time_of_specified_line = sum(durations[:line_index])  # Sum durations of previous lines\n",
        "    print(f\"The line '{lines[line_index]}' will start at approximately {start_time_of_specified_line:.2f} seconds.\")\n",
        "else:\n",
        "    print(f\"The text has only {len(lines)} lines. Please adjust the line index.\")"
      ],
      "metadata": {
        "id": "55zaHOt1tvrk"
      },
      "execution_count": null,
      "outputs": []
    },
    {
      "cell_type": "code",
      "source": [
        "#Note that lines are 0 indexed\n",
        "def get_line_index(text, target_line):\n",
        "\n",
        "    lines = re.split(r'(?<=[.!?])\\s+|\\n+', text.strip())\n",
        "\n",
        "    # Find the index of the target line\n",
        "    try:\n",
        "        index = lines.index(target_line.strip())\n",
        "    except ValueError:\n",
        "        index = -1  # Return -1 if the line is not found\n",
        "\n",
        "    return index\n",
        "\n",
        "# Example usage\n",
        "text = \"\"\"Alice's Adventures in Wonderland (also known as Alice in Wonderland) is an 1865 English children's novel by Lewis Carroll, a mathematics don at the University of Oxford. It details the story of a girl named Alice who falls through a rabbit hole into a fantasy world of anthropomorphic creatures. It is seen as an example of the literary nonsense genre. The artist John Tenniel provided 42 wood-engraved illustrations for the book.\n",
        "\n",
        "It received positive reviews upon release and is now one of the best-known works of Victorian literature; its narrative, structure, characters and imagery have had a widespread influence on popular culture and literature, especially in the fantasy genre. It is credited as helping end an era of didacticism in children's literature, inaugurating an era in which writing for children aimed to \"delight or entertain\". The tale plays with logic, giving the story lasting popularity with adults as well as with children. The titular character Alice shares her name with Alice Liddell, a girl Carroll knew—scholars disagree about the extent to which the character was based upon her.\"\"\"\n",
        "\n",
        "target_line = \"It details the story of a girl named Alice who falls through a rabbit hole into a fantasy world of anthropomorphic creatures.\"\n",
        "\n",
        "line_index = get_line_index(text, target_line)\n",
        "print(f\"The index of the target line is: {line_index}\")"
      ],
      "metadata": {
        "id": "_9xi7pQhtxW4"
      },
      "execution_count": null,
      "outputs": []
    }
  ]
}